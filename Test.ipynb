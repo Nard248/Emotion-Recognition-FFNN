{
 "cells": [
  {
   "cell_type": "code",
   "execution_count": 16,
   "id": "initial_id",
   "metadata": {
    "collapsed": true,
    "ExecuteTime": {
     "end_time": "2024-04-23T10:58:55.501272200Z",
     "start_time": "2024-04-23T10:58:55.474257500Z"
    }
   },
   "outputs": [],
   "source": [
    "import numpy as np\n",
    "import pandas as pd"
   ]
  },
  {
   "cell_type": "code",
   "execution_count": 17,
   "outputs": [],
   "source": [
    "Emotions = pd.read_csv(r\"C:\\Users\\meloy\\Desktop\\emotion (4).csv\")"
   ],
   "metadata": {
    "collapsed": false,
    "ExecuteTime": {
     "end_time": "2024-04-23T10:59:06.129730300Z",
     "start_time": "2024-04-23T10:58:55.480266400Z"
    }
   },
   "id": "a4e86f7d53dba9b2"
  },
  {
   "cell_type": "code",
   "execution_count": 18,
   "outputs": [
    {
     "data": {
      "text/plain": "(48648, 2377)"
     },
     "execution_count": 18,
     "metadata": {},
     "output_type": "execute_result"
    }
   ],
   "source": [
    "Emotions.shape"
   ],
   "metadata": {
    "collapsed": false,
    "ExecuteTime": {
     "end_time": "2024-04-23T10:59:06.135195Z",
     "start_time": "2024-04-23T10:59:06.130703200Z"
    }
   },
   "id": "3b23f1a06e10d587"
  },
  {
   "cell_type": "code",
   "execution_count": 19,
   "outputs": [
    {
     "name": "stdout",
     "output_type": "stream",
     "text": [
      "0           False\n",
      "1           False\n",
      "2           False\n",
      "3           False\n",
      "4           False\n",
      "            ...  \n",
      "2372         True\n",
      "2373         True\n",
      "2374         True\n",
      "2375         True\n",
      "Emotions    False\n",
      "Length: 2377, dtype: bool\n"
     ]
    }
   ],
   "source": [
    "print(Emotions.isna().any())"
   ],
   "metadata": {
    "collapsed": false,
    "ExecuteTime": {
     "end_time": "2024-04-23T10:59:06.232450500Z",
     "start_time": "2024-04-23T10:59:06.135195Z"
    }
   },
   "id": "95f2231c0020a102"
  },
  {
   "cell_type": "code",
   "execution_count": 20,
   "outputs": [
    {
     "name": "stdout",
     "output_type": "stream",
     "text": [
      "0           False\n",
      "1           False\n",
      "2           False\n",
      "3           False\n",
      "4           False\n",
      "            ...  \n",
      "2372        False\n",
      "2373        False\n",
      "2374        False\n",
      "2375        False\n",
      "Emotions    False\n",
      "Length: 2377, dtype: bool\n"
     ]
    },
    {
     "data": {
      "text/plain": "(48648, 2377)"
     },
     "execution_count": 20,
     "metadata": {},
     "output_type": "execute_result"
    }
   ],
   "source": [
    "Emotions=Emotions.fillna(0)\n",
    "print(Emotions.isna().any())\n",
    "Emotions.shape"
   ],
   "metadata": {
    "collapsed": false,
    "ExecuteTime": {
     "end_time": "2024-04-23T10:59:06.719054500Z",
     "start_time": "2024-04-23T10:59:06.231447400Z"
    }
   },
   "id": "486f91f4e07d845a"
  },
  {
   "cell_type": "code",
   "execution_count": 21,
   "outputs": [
    {
     "name": "stdout",
     "output_type": "stream",
     "text": [
      "0           0\n",
      "1           0\n",
      "2           0\n",
      "3           0\n",
      "4           0\n",
      "           ..\n",
      "2372        0\n",
      "2373        0\n",
      "2374        0\n",
      "2375        0\n",
      "Emotions    0\n",
      "Length: 2377, dtype: int64\n"
     ]
    },
    {
     "name": "stderr",
     "output_type": "stream",
     "text": [
      "C:\\Users\\meloy\\PycharmProjects\\MLProject-2\\venv\\Lib\\site-packages\\numpy\\core\\fromnumeric.py:86: FutureWarning: The behavior of DataFrame.sum with axis=None is deprecated, in a future version this will reduce over both axes and return a scalar. To retain the old behavior, pass axis=0 (or do not pass axis)\n",
      "  return reduction(axis=axis, out=out, **passkwargs)\n"
     ]
    }
   ],
   "source": [
    "print(np.sum(Emotions.isna()))"
   ],
   "metadata": {
    "collapsed": false,
    "ExecuteTime": {
     "end_time": "2024-04-23T10:59:06.836068800Z",
     "start_time": "2024-04-23T10:59:06.717014500Z"
    }
   },
   "id": "bedab53ee3869abe"
  },
  {
   "cell_type": "code",
   "execution_count": 22,
   "outputs": [],
   "source": [
    "X = Emotions.iloc[: ,:-1].values\n",
    "Y = Emotions['Emotions'].values"
   ],
   "metadata": {
    "collapsed": false,
    "ExecuteTime": {
     "end_time": "2024-04-23T10:59:07.057569200Z",
     "start_time": "2024-04-23T10:59:06.837972900Z"
    }
   },
   "id": "5b3862ecd6199cc2"
  },
  {
   "cell_type": "code",
   "execution_count": 23,
   "outputs": [],
   "source": [
    "# As this is a multiclass classification problem onehotencoding our Y\n",
    "from sklearn.preprocessing import StandardScaler, OneHotEncoder\n",
    "encoder = OneHotEncoder()\n",
    "Y = encoder.fit_transform(np.array(Y).reshape(-1,1)).toarray()"
   ],
   "metadata": {
    "collapsed": false,
    "ExecuteTime": {
     "end_time": "2024-04-23T10:59:07.066815200Z",
     "start_time": "2024-04-23T10:59:07.058561200Z"
    }
   },
   "id": "25b3def0794b0246"
  },
  {
   "cell_type": "code",
   "execution_count": 24,
   "outputs": [
    {
     "name": "stdout",
     "output_type": "stream",
     "text": [
      "(48648, 7)\n"
     ]
    },
    {
     "data": {
      "text/plain": "(48648, 2376)"
     },
     "execution_count": 24,
     "metadata": {},
     "output_type": "execute_result"
    }
   ],
   "source": [
    "print(Y.shape)\n",
    "X.shape"
   ],
   "metadata": {
    "collapsed": false,
    "ExecuteTime": {
     "end_time": "2024-04-23T10:59:07.073194300Z",
     "start_time": "2024-04-23T10:59:07.067744800Z"
    }
   },
   "id": "9123f5b24c5af6d1"
  },
  {
   "cell_type": "code",
   "execution_count": 25,
   "outputs": [
    {
     "data": {
      "text/plain": "((38918, 2376), (38918, 7), (9730, 2376), (9730, 7))"
     },
     "execution_count": 25,
     "metadata": {},
     "output_type": "execute_result"
    }
   ],
   "source": [
    "from sklearn.model_selection import train_test_split\n",
    "\n",
    "x_train, x_test, y_train, y_test = train_test_split(X, Y, random_state=42,test_size=0.2, shuffle=True)\n",
    "x_train.shape, y_train.shape, x_test.shape, y_test.shape"
   ],
   "metadata": {
    "collapsed": false,
    "ExecuteTime": {
     "end_time": "2024-04-23T10:59:08.190764700Z",
     "start_time": "2024-04-23T10:59:07.072203300Z"
    }
   },
   "id": "88ec1522e35b59ec"
  },
  {
   "cell_type": "code",
   "execution_count": 26,
   "outputs": [
    {
     "data": {
      "text/plain": "((38918, 2376), (38918, 7), (9730, 2376), (9730, 7))"
     },
     "execution_count": 26,
     "metadata": {},
     "output_type": "execute_result"
    }
   ],
   "source": [
    "# scaling our data with sklearn's Standard scaler\n",
    "scaler = StandardScaler()\n",
    "x_train = scaler.fit_transform(x_train)\n",
    "x_test = scaler.transform(x_test)\n",
    "x_train.shape, y_train.shape, x_test.shape, y_test.shape"
   ],
   "metadata": {
    "collapsed": false,
    "ExecuteTime": {
     "end_time": "2024-04-23T10:59:09.092029400Z",
     "start_time": "2024-04-23T10:59:08.187629300Z"
    }
   },
   "id": "57c5ed36df7dbbe4"
  },
  {
   "cell_type": "code",
   "execution_count": 27,
   "outputs": [],
   "source": [
    "import numpy as np\n",
    "from sklearn.metrics import classification_report, accuracy_score\n",
    "from Models.model import MultiLayerNetwork"
   ],
   "metadata": {
    "collapsed": false,
    "ExecuteTime": {
     "end_time": "2024-04-23T10:59:09.092029400Z",
     "start_time": "2024-04-23T10:59:09.089397600Z"
    }
   },
   "id": "e7f4e42df2910ed9"
  },
  {
   "cell_type": "code",
   "execution_count": 33,
   "outputs": [
    {
     "name": "stdout",
     "output_type": "stream",
     "text": [
      "Epoch 0, Loss: 2.3196\n",
      "Epoch 10, Loss: 1.9859\n",
      "Epoch 20, Loss: 1.9255\n",
      "Epoch 30, Loss: 1.8870\n",
      "Epoch 40, Loss: 1.8577\n",
      "Learning rate decayed to: 0.018000000000000002\n",
      "Epoch 50, Loss: 1.8337\n",
      "Epoch 60, Loss: 1.8151\n",
      "Epoch 70, Loss: 1.7985\n",
      "Epoch 80, Loss: 1.7835\n",
      "Epoch 90, Loss: 1.7698\n",
      "Learning rate decayed to: 0.016200000000000003\n",
      "Epoch 100, Loss: 1.7572\n",
      "Epoch 110, Loss: 1.7465\n",
      "Epoch 120, Loss: 1.7365\n",
      "Epoch 130, Loss: 1.7270\n",
      "Epoch 140, Loss: 1.7180\n",
      "Learning rate decayed to: 0.014580000000000003\n",
      "Epoch 150, Loss: 1.7093\n",
      "Epoch 160, Loss: 1.7019\n",
      "Epoch 170, Loss: 1.6947\n",
      "Epoch 180, Loss: 1.6878\n",
      "Epoch 190, Loss: 1.6810\n",
      "Learning rate decayed to: 0.013122000000000003\n",
      "Epoch 200, Loss: 1.6745\n",
      "Epoch 210, Loss: 1.6688\n",
      "Epoch 220, Loss: 1.6632\n",
      "Epoch 230, Loss: 1.6577\n",
      "Epoch 240, Loss: 1.6524\n",
      "Learning rate decayed to: 0.011809800000000004\n",
      "Epoch 250, Loss: 1.6472\n",
      "Epoch 260, Loss: 1.6426\n",
      "Epoch 270, Loss: 1.6380\n",
      "Epoch 280, Loss: 1.6336\n",
      "Epoch 290, Loss: 1.6292\n",
      "Learning rate decayed to: 0.010628820000000004\n",
      "Epoch 300, Loss: 1.6250\n",
      "Epoch 310, Loss: 1.6212\n",
      "Epoch 320, Loss: 1.6174\n",
      "Epoch 330, Loss: 1.6137\n",
      "Epoch 340, Loss: 1.6101\n",
      "Learning rate decayed to: 0.009565938000000005\n",
      "Epoch 350, Loss: 1.6065\n",
      "Epoch 360, Loss: 1.6033\n",
      "Epoch 370, Loss: 1.6001\n",
      "Epoch 380, Loss: 1.5970\n",
      "Epoch 390, Loss: 1.5938\n",
      "Learning rate decayed to: 0.008609344200000004\n",
      "Epoch 400, Loss: 1.5908\n",
      "Epoch 410, Loss: 1.5880\n",
      "Epoch 420, Loss: 1.5853\n"
     ]
    },
    {
     "ename": "KeyboardInterrupt",
     "evalue": "",
     "output_type": "error",
     "traceback": [
      "\u001B[1;31m---------------------------------------------------------------------------\u001B[0m",
      "\u001B[1;31mKeyboardInterrupt\u001B[0m                         Traceback (most recent call last)",
      "Cell \u001B[1;32mIn[33], line 10\u001B[0m\n\u001B[0;32m      6\u001B[0m layer_sizes \u001B[38;5;241m=\u001B[39m [input_size] \u001B[38;5;241m+\u001B[39m hidden_layer_sizes \u001B[38;5;241m+\u001B[39m [output_size]\n\u001B[0;32m      8\u001B[0m nn \u001B[38;5;241m=\u001B[39m MultiLayerNetwork(layer_sizes, initial_learning_rate\u001B[38;5;241m=\u001B[39m\u001B[38;5;241m0.02\u001B[39m)\n\u001B[1;32m---> 10\u001B[0m \u001B[43mnn\u001B[49m\u001B[38;5;241;43m.\u001B[39;49m\u001B[43mtrain\u001B[49m\u001B[43m(\u001B[49m\u001B[43mx_train\u001B[49m\u001B[43m,\u001B[49m\u001B[43m \u001B[49m\u001B[43my_train\u001B[49m\u001B[43m,\u001B[49m\u001B[43m \u001B[49m\u001B[43mepochs\u001B[49m\u001B[38;5;241;43m=\u001B[39;49m\u001B[38;5;241;43m3000\u001B[39;49m\u001B[43m)\u001B[49m\n\u001B[0;32m     12\u001B[0m \u001B[38;5;28;01mdef\u001B[39;00m \u001B[38;5;21mevaluate\u001B[39m(X, Y, model):\n\u001B[0;32m     13\u001B[0m     output \u001B[38;5;241m=\u001B[39m model\u001B[38;5;241m.\u001B[39mforward(X)\n",
      "File \u001B[1;32m~\\PycharmProjects\\MLProject-2\\Models\\model.py:90\u001B[0m, in \u001B[0;36mtrain\u001B[1;34m(self, X_train, Y_train, epochs)\u001B[0m\n\u001B[0;32m     88\u001B[0m loss, grad_softmax \u001B[38;5;241m=\u001B[39m \u001B[38;5;28mself\u001B[39m\u001B[38;5;241m.\u001B[39mcompute_loss_and_gradients(outputs, Y_train)\n\u001B[0;32m     89\u001B[0m \u001B[38;5;28mself\u001B[39m\u001B[38;5;241m.\u001B[39mbackward(grad_softmax, outputs)\n\u001B[1;32m---> 90\u001B[0m \u001B[38;5;28;01mif\u001B[39;00m epoch \u001B[38;5;241m%\u001B[39m \u001B[38;5;241m10\u001B[39m \u001B[38;5;241m==\u001B[39m \u001B[38;5;241m0\u001B[39m:\n\u001B[0;32m     91\u001B[0m     \u001B[38;5;28mprint\u001B[39m(\u001B[38;5;124mf\u001B[39m\u001B[38;5;124m\"\u001B[39m\u001B[38;5;124mEpoch \u001B[39m\u001B[38;5;132;01m{\u001B[39;00mepoch\u001B[38;5;132;01m}\u001B[39;00m\u001B[38;5;124m, Loss: \u001B[39m\u001B[38;5;132;01m{\u001B[39;00mloss\u001B[38;5;132;01m:\u001B[39;00m\u001B[38;5;124m.4f\u001B[39m\u001B[38;5;132;01m}\u001B[39;00m\u001B[38;5;124m\"\u001B[39m)\n",
      "File \u001B[1;32m~\\PycharmProjects\\MLProject-2\\Models\\model.py:60\u001B[0m, in \u001B[0;36mMultiLayerNetwork.forward\u001B[1;34m(self, x)\u001B[0m\n\u001B[0;32m     58\u001B[0m \u001B[38;5;28;01mfor\u001B[39;00m layer \u001B[38;5;129;01min\u001B[39;00m \u001B[38;5;28mself\u001B[39m\u001B[38;5;241m.\u001B[39mlayers:\n\u001B[0;32m     59\u001B[0m     x \u001B[38;5;241m=\u001B[39m layer\u001B[38;5;241m.\u001B[39mforward(x)\n\u001B[1;32m---> 60\u001B[0m \u001B[38;5;28;01mreturn\u001B[39;00m x\n",
      "File \u001B[1;32m~\\PycharmProjects\\MLProject-2\\Models\\model.py:21\u001B[0m, in \u001B[0;36mAffineLayer.forward\u001B[1;34m(self, x)\u001B[0m\n\u001B[0;32m     19\u001B[0m \u001B[38;5;28;01mdef\u001B[39;00m \u001B[38;5;21mforward\u001B[39m(\u001B[38;5;28mself\u001B[39m, x):\n\u001B[0;32m     20\u001B[0m     \u001B[38;5;28mself\u001B[39m\u001B[38;5;241m.\u001B[39mx \u001B[38;5;241m=\u001B[39m x\n\u001B[1;32m---> 21\u001B[0m     z \u001B[38;5;241m=\u001B[39m \u001B[43mnp\u001B[49m\u001B[38;5;241;43m.\u001B[39;49m\u001B[43mdot\u001B[49m\u001B[43m(\u001B[49m\u001B[43mx\u001B[49m\u001B[43m,\u001B[49m\u001B[43m \u001B[49m\u001B[38;5;28;43mself\u001B[39;49m\u001B[38;5;241;43m.\u001B[39;49m\u001B[43mweights\u001B[49m\u001B[43m)\u001B[49m \u001B[38;5;241m+\u001B[39m \u001B[38;5;28mself\u001B[39m\u001B[38;5;241m.\u001B[39mbiases\n\u001B[0;32m     22\u001B[0m     \u001B[38;5;28mself\u001B[39m\u001B[38;5;241m.\u001B[39mz \u001B[38;5;241m=\u001B[39m z\n\u001B[0;32m     23\u001B[0m     \u001B[38;5;28;01mif\u001B[39;00m \u001B[38;5;28mself\u001B[39m\u001B[38;5;241m.\u001B[39mactivation \u001B[38;5;241m==\u001B[39m \u001B[38;5;124m'\u001B[39m\u001B[38;5;124mrelu\u001B[39m\u001B[38;5;124m'\u001B[39m:\n",
      "\u001B[1;31mKeyboardInterrupt\u001B[0m: "
     ]
    }
   ],
   "source": [
    "input_size = x_train.shape[1]  \n",
    "output_size = y_train.shape[1]  \n",
    "\n",
    "hidden_layer_sizes = 4*[350]  \n",
    "\n",
    "layer_sizes = [input_size] + hidden_layer_sizes + [output_size]\n",
    "\n",
    "nn = MultiLayerNetwork(layer_sizes, initial_learning_rate=0.02)\n",
    "\n",
    "nn.train(x_train, y_train, epochs=3000)\n",
    "\n",
    "def evaluate(X, Y, model):\n",
    "    output = model.forward(X)\n",
    "    \n",
    "    # Checking and handling if the output is a list\n",
    "    if isinstance(output, list):\n",
    "        logits = output[-1]  # Assuming the last item in the list is the desired output\n",
    "    else:\n",
    "        logits = output\n",
    "    \n",
    "    predictions = np.argmax(logits, axis=1)\n",
    "    if Y.ndim == 2 and Y.shape[1] > 1:\n",
    "        true_classes = np.argmax(Y, axis=1)\n",
    "    else:\n",
    "        true_classes = Y  # Assuming Y is already class indices\n",
    "    \n",
    "    accuracy = accuracy_score(true_classes, predictions)\n",
    "    report = classification_report(true_classes, predictions)\n",
    "    return accuracy, report\n",
    "train_accuracy, train_report = evaluate(x_train, y_train, nn)\n",
    "print(f\"Training Accuracy: {train_accuracy:.2f}\")\n",
    "print(\"Training Classification Report:\")\n",
    "print(train_report)\n",
    "\n",
    "test_accuracy, test_report = evaluate(x_test, y_test, nn)\n",
    "print(f\"Testing Accuracy: {test_accuracy:.2f}\")\n",
    "print(\"Testing Classification Report:\")\n",
    "print(test_report)"
   ],
   "metadata": {
    "collapsed": false,
    "ExecuteTime": {
     "end_time": "2024-04-23T12:59:08.650333200Z",
     "start_time": "2024-04-23T12:45:09.812710300Z"
    }
   },
   "id": "4450605a0e18ea47"
  },
  {
   "cell_type": "code",
   "execution_count": null,
   "outputs": [],
   "source": [],
   "metadata": {
    "collapsed": false,
    "ExecuteTime": {
     "end_time": "2024-04-23T10:59:37.158270300Z",
     "start_time": "2024-04-23T10:59:37.151321Z"
    }
   },
   "id": "b01a120963e9270f"
  }
 ],
 "metadata": {
  "kernelspec": {
   "display_name": "Python 3",
   "language": "python",
   "name": "python3"
  },
  "language_info": {
   "codemirror_mode": {
    "name": "ipython",
    "version": 2
   },
   "file_extension": ".py",
   "mimetype": "text/x-python",
   "name": "python",
   "nbconvert_exporter": "python",
   "pygments_lexer": "ipython2",
   "version": "2.7.6"
  }
 },
 "nbformat": 4,
 "nbformat_minor": 5
}
